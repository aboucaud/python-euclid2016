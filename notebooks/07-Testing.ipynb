{
 "cells": [
  {
   "cell_type": "markdown",
   "metadata": {},
   "source": [
    "# Python Testing"
   ]
  },
  {
   "cell_type": "markdown",
   "metadata": {},
   "source": [
    "There are several Python libraries dedicated to unit testing. \n",
    "The most common are:\n",
    "* [`unittest`](http://docs.python.org/library/unittest.html)\n",
    "* [`nose`](http://nosetest.org)\n",
    "* [`pytest`](http://pytest.org/)\n",
    "\n",
    "This course focuses on the use of `pytest` since it is the recommended Python unit test library for Euclid developers.\n",
    "\n",
    "***Content***:\n",
    "- [Writing a test](#Writing-a-test)\n",
    "- [Configuring pytest](#Pytest-configuration)\n",
    "- [Using fixtures to extend your tests](#Using-fixtures)\n",
    "- [Test coverage of a Python module](#Test-coverage)"
   ]
  },
  {
   "cell_type": "markdown",
   "metadata": {},
   "source": [
    "## Writing a test"
   ]
  },
  {
   "cell_type": "markdown",
   "metadata": {},
   "source": [
    "A unit test written under `pytest` is a Python function or class whose name **starts with \"test\"** and that makes an hypothesis ones considers true."
   ]
  },
  {
   "cell_type": "markdown",
   "metadata": {},
   "source": [
    "### A first test"
   ]
  },
  {
   "cell_type": "markdown",
   "metadata": {},
   "source": [
    "Let's right a basic file containing a function f, and the corresponding test"
   ]
  },
  {
   "cell_type": "code",
   "execution_count": 1,
   "metadata": {
    "collapsed": false
   },
   "outputs": [
    {
     "name": "stdout",
     "output_type": "stream",
     "text": [
      "Writing my_first_test.py\n"
     ]
    }
   ],
   "source": [
    "%%file my_first_test.py\n",
    "\n",
    "def f(a):\n",
    "    return a\n",
    "\n",
    "def test_a():\n",
    "    assert f(1) == 1"
   ]
  },
  {
   "cell_type": "markdown",
   "metadata": {},
   "source": [
    "The file has been saved in the current directory"
   ]
  },
  {
   "cell_type": "code",
   "execution_count": 2,
   "metadata": {
    "collapsed": false
   },
   "outputs": [
    {
     "name": "stdout",
     "output_type": "stream",
     "text": [
      "my_first_test.py\r\n"
     ]
    }
   ],
   "source": [
    "!ls *.py"
   ]
  },
  {
   "cell_type": "markdown",
   "metadata": {},
   "source": [
    "Launching pytest is as easy as move to the right directory and using the command line\n",
    "\n",
    "    py.test\n",
    "    \n",
    "It will start a recursive search from the current directory for Python files, look for methods containing \"test\" and run them."
   ]
  },
  {
   "cell_type": "code",
   "execution_count": 3,
   "metadata": {
    "collapsed": false
   },
   "outputs": [
    {
     "name": "stdout",
     "output_type": "stream",
     "text": [
      "\u001b[1m============================= test session starts ==============================\u001b[0m\r\n",
      "platform darwin -- Python 2.7.11, pytest-2.9.2, py-1.4.31, pluggy-0.3.1\r\n",
      "rootdir: /Users/aboucaud/work/Euclid/devel/python-euclid2016/notebooks, inifile: \r\n",
      "plugins: cov-2.2.1, pep8-1.0.6, xdist-1.14\r\n",
      "\u001b[1m\r",
      "collecting 0 items\u001b[0m\u001b[1m\r",
      "collecting 1 items\u001b[0m\u001b[1m\r",
      "collected 1 items \r\n",
      "\u001b[0m\r\n",
      "my_first_test.py .\r\n",
      "\r\n",
      "\u001b[32m\u001b[1m=========================== 1 passed in 0.01 seconds ===========================\u001b[0m\r\n"
     ]
    }
   ],
   "source": [
    "!py.test"
   ]
  },
  {
   "cell_type": "markdown",
   "metadata": {},
   "source": [
    "To get less information, use the quick option `-q`"
   ]
  },
  {
   "cell_type": "code",
   "execution_count": 4,
   "metadata": {
    "collapsed": false
   },
   "outputs": [
    {
     "name": "stdout",
     "output_type": "stream",
     "text": [
      ".\r\n",
      "\u001b[32m\u001b[1m1 passed in 0.01 seconds\u001b[0m\r\n"
     ]
    }
   ],
   "source": [
    "!py.test -q"
   ]
  },
  {
   "cell_type": "markdown",
   "metadata": {},
   "source": [
    "To get more information of which test has been run, use the verbose option `-v`"
   ]
  },
  {
   "cell_type": "code",
   "execution_count": 5,
   "metadata": {
    "collapsed": false
   },
   "outputs": [
    {
     "name": "stdout",
     "output_type": "stream",
     "text": [
      "\u001b[1m============================= test session starts ==============================\u001b[0m\r\n",
      "platform darwin -- Python 2.7.11, pytest-2.9.2, py-1.4.31, pluggy-0.3.1 -- /usr/local/opt/python/bin/python2.7\r\n",
      "cachedir: .cache\r\n",
      "rootdir: /Users/aboucaud/work/Euclid/devel/python-euclid2016/notebooks, inifile: \r\n",
      "plugins: cov-2.2.1, pep8-1.0.6, xdist-1.14\r\n",
      "\u001b[1m\r",
      "collecting 0 items\u001b[0m\u001b[1m\r",
      "collecting 1 items\u001b[0m\u001b[1m\r",
      "collected 1 items \r\n",
      "\u001b[0m\r\n",
      "my_first_test.py::test_a \u001b[32mPASSED\u001b[0m\r\n",
      "\r\n",
      "\u001b[32m\u001b[1m=========================== 1 passed in 0.01 seconds ===========================\u001b[0m\r\n"
     ]
    }
   ],
   "source": [
    "!py.test -v"
   ]
  },
  {
   "cell_type": "markdown",
   "metadata": {},
   "source": [
    "The basic test `test_a` has passed."
   ]
  },
  {
   "cell_type": "markdown",
   "metadata": {},
   "source": [
    "### Additional tests\n",
    "\n",
    "Let's now write a bunch of tests, introduce an error on `test_b` and re-run pytest."
   ]
  },
  {
   "cell_type": "code",
   "execution_count": 6,
   "metadata": {
    "collapsed": false
   },
   "outputs": [
    {
     "name": "stdout",
     "output_type": "stream",
     "text": [
      "Writing my_second_test.py\n"
     ]
    }
   ],
   "source": [
    "%%file my_second_test.py\n",
    "\n",
    "def f(a):\n",
    "    return a\n",
    "\n",
    "def test_a():\n",
    "    assert f(1) == 1\n",
    "    \n",
    "def test_b():\n",
    "    assert f(2) == 1\n",
    "\n",
    "def test_c():\n",
    "    assert f(3) == 1 + 1 + 1"
   ]
  },
  {
   "cell_type": "code",
   "execution_count": 7,
   "metadata": {
    "collapsed": false
   },
   "outputs": [
    {
     "name": "stdout",
     "output_type": "stream",
     "text": [
      "\u001b[1m============================= test session starts ==============================\u001b[0m\r\n",
      "platform darwin -- Python 2.7.11, pytest-2.9.2, py-1.4.31, pluggy-0.3.1 -- /usr/local/opt/python/bin/python2.7\r\n",
      "cachedir: .cache\r\n",
      "rootdir: /Users/aboucaud/work/Euclid/devel/python-euclid2016/notebooks, inifile: \r\n",
      "plugins: cov-2.2.1, pep8-1.0.6, xdist-1.14\r\n",
      "\u001b[1m\r",
      "collecting 0 items\u001b[0m\u001b[1m\r",
      "collecting 1 items\u001b[0m\u001b[1m\r",
      "collecting 4 items\u001b[0m\u001b[1m\r",
      "collected 4 items \r\n",
      "\u001b[0m\r\n",
      "my_first_test.py::test_a \u001b[32mPASSED\u001b[0m\r\n",
      "my_second_test.py::test_a \u001b[32mPASSED\u001b[0m\r\n",
      "my_second_test.py::test_b \u001b[31mFAILED\u001b[0m\r\n",
      "my_second_test.py::test_c \u001b[32mPASSED\u001b[0m\r\n",
      "\r\n",
      "=================================== FAILURES ===================================\r\n",
      "\u001b[1m\u001b[31m____________________________________ test_b ____________________________________\u001b[0m\r\n",
      "\r\n",
      "\u001b[1m    def test_b():\u001b[0m\r\n",
      "\u001b[1m>       assert f(2) == 1\u001b[0m\r\n",
      "\u001b[1m\u001b[31mE       assert 2 == 1\u001b[0m\r\n",
      "\u001b[1m\u001b[31mE        +  where 2 = f(2)\u001b[0m\r\n",
      "\r\n",
      "my_second_test.py:9: AssertionError\r\n",
      "\u001b[1m\u001b[31m====================== 1 failed, 3 passed in 0.01 seconds ======================\u001b[0m\r\n"
     ]
    }
   ],
   "source": [
    "!py.test -v"
   ]
  },
  {
   "cell_type": "markdown",
   "metadata": {
    "collapsed": true
   },
   "source": [
    "We see pytest has *collected* and run 4 items, 1 from the first file, and 3 from the second. \n",
    "\n",
    "As expected, one test has failed.\n",
    "\n",
    "Therefore `pytest` shows the full traceback leading to the failure, and even gives the output value of the `f` method which can be useful for quick debugging."
   ]
  },
  {
   "cell_type": "markdown",
   "metadata": {},
   "source": [
    "### Testing errors and exceptions\n",
    "\n",
    "The philosophy of Python is to try something first and then decide what to do in case of an error. This is the reason behind Python Exceptions. They inform on the issue that was detected and help the user debug or catch it and find another way to deal with the issue."
   ]
  },
  {
   "cell_type": "markdown",
   "metadata": {},
   "source": [
    "When testing a code, it is thus important to assess if these Exceptions are raised as they should be. However, since an exception raised but not caught in an environmment triggers an error, one cannot use the \"assert\" syntax but the context manager `pytest.raises` instead."
   ]
  },
  {
   "cell_type": "code",
   "execution_count": 8,
   "metadata": {
    "collapsed": false
   },
   "outputs": [
    {
     "name": "stdout",
     "output_type": "stream",
     "text": [
      "Writing my_third_test.py\n"
     ]
    }
   ],
   "source": [
    "%%file my_third_test.py\n",
    "\n",
    "import pytest\n",
    "\n",
    "def h(n):\n",
    "    if n < 0:\n",
    "        raise ValueError(\"Negative value detected\")\n",
    "    \n",
    "    return n\n",
    "        \n",
    "\n",
    "def test_h():\n",
    "    assert h(1) == 1\n",
    "    \n",
    "def test_exception_h():\n",
    "    with pytest.raises(ValueError):\n",
    "        h(-1)"
   ]
  },
  {
   "cell_type": "code",
   "execution_count": 9,
   "metadata": {
    "collapsed": false
   },
   "outputs": [
    {
     "name": "stdout",
     "output_type": "stream",
     "text": [
      "\u001b[1m============================= test session starts ==============================\u001b[0m\r\n",
      "platform darwin -- Python 2.7.11, pytest-2.9.2, py-1.4.31, pluggy-0.3.1 -- /usr/local/opt/python/bin/python2.7\r\n",
      "cachedir: .cache\r\n",
      "rootdir: /Users/aboucaud/work/Euclid/devel/python-euclid2016/notebooks, inifile: \r\n",
      "plugins: cov-2.2.1, pep8-1.0.6, xdist-1.14\r\n",
      "\u001b[1m\r",
      "collecting 0 items\u001b[0m\u001b[1m\r",
      "collecting 2 items\u001b[0m\u001b[1m\r",
      "collected 2 items \r\n",
      "\u001b[0m\r\n",
      "my_third_test.py::test_h \u001b[32mPASSED\u001b[0m\r\n",
      "my_third_test.py::test_exception_h \u001b[32mPASSED\u001b[0m\r\n",
      "\r\n",
      "\u001b[32m\u001b[1m=========================== 2 passed in 0.01 seconds ===========================\u001b[0m\r\n"
     ]
    }
   ],
   "source": [
    "!py.test -v my_third_test.py"
   ]
  },
  {
   "cell_type": "markdown",
   "metadata": {},
   "source": [
    "## Using fixtures"
   ]
  },
  {
   "cell_type": "markdown",
   "metadata": {},
   "source": [
    "Fixtures are utility methods whose purpose is to facilitate repetitive testing (see more [here](http://pytest.org/latest/fixture.html)). They are declared once and then used in multiple tests. It dramatically reduces the numbers of hardcoded values in tests. "
   ]
  },
  {
   "cell_type": "markdown",
   "metadata": {},
   "source": [
    "### Basic fixture"
   ]
  },
  {
   "cell_type": "markdown",
   "metadata": {},
   "source": [
    "In order to use a fixture, simply put it as argument of the unit test. "
   ]
  },
  {
   "cell_type": "code",
   "execution_count": 10,
   "metadata": {
    "collapsed": false
   },
   "outputs": [
    {
     "name": "stdout",
     "output_type": "stream",
     "text": [
      "Writing my_first_fixture.py\n"
     ]
    }
   ],
   "source": [
    "%%file my_first_fixture.py\n",
    "\n",
    "import pytest\n",
    "\n",
    "def g(a):\n",
    "    return 2 * a\n",
    "\n",
    "@pytest.fixture\n",
    "def numbers():\n",
    "    return 42\n",
    "    \n",
    "def test_g(numbers):\n",
    "    assert g(numbers) == numbers + numbers\n",
    "    \n",
    "def test_2g(numbers):\n",
    "    assert g(2*numbers) == 4 * numbers"
   ]
  },
  {
   "cell_type": "code",
   "execution_count": 11,
   "metadata": {
    "collapsed": false
   },
   "outputs": [
    {
     "name": "stdout",
     "output_type": "stream",
     "text": [
      "\u001b[1m============================= test session starts ==============================\u001b[0m\r\n",
      "platform darwin -- Python 2.7.11, pytest-2.9.2, py-1.4.31, pluggy-0.3.1 -- /usr/local/opt/python/bin/python2.7\r\n",
      "cachedir: .cache\r\n",
      "rootdir: /Users/aboucaud/work/Euclid/devel/python-euclid2016/notebooks, inifile: \r\n",
      "plugins: cov-2.2.1, pep8-1.0.6, xdist-1.14\r\n",
      "\u001b[1m\r",
      "collecting 0 items\u001b[0m\u001b[1m\r",
      "collecting 2 items\u001b[0m\u001b[1m\r",
      "collected 2 items \r\n",
      "\u001b[0m\r\n",
      "my_first_fixture.py::test_g \u001b[32mPASSED\u001b[0m\r\n",
      "my_first_fixture.py::test_2g \u001b[32mPASSED\u001b[0m\r\n",
      "\r\n",
      "\u001b[32m\u001b[1m=========================== 2 passed in 0.01 seconds ===========================\u001b[0m\r\n"
     ]
    }
   ],
   "source": [
    "!py.test -v my_first_fixture.py"
   ]
  },
  {
   "cell_type": "markdown",
   "metadata": {},
   "source": [
    "### Extended fixtures"
   ]
  },
  {
   "cell_type": "markdown",
   "metadata": {},
   "source": [
    "Fixtures can be parametrized, which means they can take multiple values. \n",
    "The parameters are given **as a list** to the keyword `params`.\n",
    "To access these parameters inside the fixture definition, one **must use** the `request` argument and call the `param` attribute from `request` (see below in the `my_parametrized_fixture.py` file definition)\n",
    "\n",
    "\n",
    "A test using a parametrized fixture will then correspond to a loop test over the parameter set of the fixture. We define here the fixture `numbers` that can take 3 values: 10, 50 and 100. Any test using the fixture `numbers` will run three times, with `numbers` taking respectively the value 10, 50 and 100 ."
   ]
  },
  {
   "cell_type": "code",
   "execution_count": 12,
   "metadata": {
    "collapsed": false
   },
   "outputs": [
    {
     "name": "stdout",
     "output_type": "stream",
     "text": [
      "Writing my_parametrized_fixture.py\n"
     ]
    }
   ],
   "source": [
    "%%file my_parametrized_fixture.py\n",
    "\n",
    "import pytest\n",
    "\n",
    "def g(a):\n",
    "    return 2 * a\n",
    "\n",
    "@pytest.fixture(params=[10, 50, 100])\n",
    "def numbers(request):\n",
    "    return request.param\n",
    "    \n",
    "def test_g(numbers):\n",
    "    assert g(numbers) == numbers + numbers\n",
    "    \n",
    "def test_2g(numbers):\n",
    "    assert g(2*numbers) == 4 * numbers"
   ]
  },
  {
   "cell_type": "code",
   "execution_count": 13,
   "metadata": {
    "collapsed": false
   },
   "outputs": [
    {
     "name": "stdout",
     "output_type": "stream",
     "text": [
      "\u001b[1m============================= test session starts ==============================\u001b[0m\r\n",
      "platform darwin -- Python 2.7.11, pytest-2.9.2, py-1.4.31, pluggy-0.3.1 -- /usr/local/opt/python/bin/python2.7\r\n",
      "cachedir: .cache\r\n",
      "rootdir: /Users/aboucaud/work/Euclid/devel/python-euclid2016/notebooks, inifile: \r\n",
      "plugins: cov-2.2.1, pep8-1.0.6, xdist-1.14\r\n",
      "\u001b[1m\r",
      "collecting 0 items\u001b[0m\u001b[1m\r",
      "collecting 6 items\u001b[0m\u001b[1m\r",
      "collected 6 items \r\n",
      "\u001b[0m\r\n",
      "my_parametrized_fixture.py::test_g[10] \u001b[32mPASSED\u001b[0m\r\n",
      "my_parametrized_fixture.py::test_g[50] \u001b[32mPASSED\u001b[0m\r\n",
      "my_parametrized_fixture.py::test_g[100] \u001b[32mPASSED\u001b[0m\r\n",
      "my_parametrized_fixture.py::test_2g[10] \u001b[32mPASSED\u001b[0m\r\n",
      "my_parametrized_fixture.py::test_2g[50] \u001b[32mPASSED\u001b[0m\r\n",
      "my_parametrized_fixture.py::test_2g[100] \u001b[32mPASSED\u001b[0m\r\n",
      "\r\n",
      "\u001b[32m\u001b[1m=========================== 6 passed in 0.01 seconds ===========================\u001b[0m\r\n"
     ]
    }
   ],
   "source": [
    "!py.test -v my_parametrized_fixture.py"
   ]
  },
  {
   "cell_type": "markdown",
   "metadata": {},
   "source": [
    "Two tests have been written but pytest has collected 6 items, meaning 3 items per test. Using the verbose option, one can see at the end of each test which parameter of the fixture has been used for this given test. "
   ]
  },
  {
   "cell_type": "markdown",
   "metadata": {},
   "source": [
    "### Multiple fixtures"
   ]
  },
  {
   "cell_type": "markdown",
   "metadata": {},
   "source": [
    "A given test can use any number of fixtures, simply by mentioning it as argument of the test. Each new fixture added, depending on the number of parameters it contains, will define a new set of combination parameters.\n",
    "\n",
    "For instance, one might consider two generic tests, one on a series of numbers and a second on the sign of the input/output. These can be written as two different fixtures.\n",
    "Testing a series of negative numbers is as simple as combining both fixtures."
   ]
  },
  {
   "cell_type": "code",
   "execution_count": 14,
   "metadata": {
    "collapsed": false
   },
   "outputs": [
    {
     "name": "stdout",
     "output_type": "stream",
     "text": [
      "Writing my_combined_fixture.py\n"
     ]
    }
   ],
   "source": [
    "%%file my_combined_fixture.py\n",
    "\n",
    "import pytest\n",
    "\n",
    "def w(a):\n",
    "    if a == -50:\n",
    "        raise ValueError(\"The value cannot be -50\")\n",
    "        \n",
    "    return a\n",
    "\n",
    "@pytest.fixture(params=[10, 50, 100])\n",
    "def numbers(request):\n",
    "    return request.param\n",
    "\n",
    "@pytest.fixture(params=[-1, 1])\n",
    "def sign(request):\n",
    "    return request.param\n",
    "    \n",
    "def test_w(numbers, sign):\n",
    "    value = numbers * sign\n",
    "    assert w(value) == value"
   ]
  },
  {
   "cell_type": "code",
   "execution_count": 15,
   "metadata": {
    "collapsed": false
   },
   "outputs": [
    {
     "name": "stdout",
     "output_type": "stream",
     "text": [
      "\u001b[1m============================= test session starts ==============================\u001b[0m\r\n",
      "platform darwin -- Python 2.7.11, pytest-2.9.2, py-1.4.31, pluggy-0.3.1 -- /usr/local/opt/python/bin/python2.7\r\n",
      "cachedir: .cache\r\n",
      "rootdir: /Users/aboucaud/work/Euclid/devel/python-euclid2016/notebooks, inifile: \r\n",
      "plugins: cov-2.2.1, pep8-1.0.6, xdist-1.14\r\n",
      "\u001b[1m\r",
      "collecting 0 items\u001b[0m\u001b[1m\r",
      "collecting 6 items\u001b[0m\u001b[1m\r",
      "collected 6 items \r\n",
      "\u001b[0m\r\n",
      "my_combined_fixture.py::test_w[10--1] \u001b[32mPASSED\u001b[0m\r\n",
      "my_combined_fixture.py::test_w[10-1] \u001b[32mPASSED\u001b[0m\r\n",
      "my_combined_fixture.py::test_w[50--1] \u001b[31mFAILED\u001b[0m\r\n",
      "my_combined_fixture.py::test_w[50-1] \u001b[32mPASSED\u001b[0m\r\n",
      "my_combined_fixture.py::test_w[100--1] \u001b[32mPASSED\u001b[0m\r\n",
      "my_combined_fixture.py::test_w[100-1] \u001b[32mPASSED\u001b[0m\r\n",
      "\r\n",
      "=================================== FAILURES ===================================\r\n",
      "\u001b[1m\u001b[31m________________________________ test_w[50--1] _________________________________\u001b[0m\r\n",
      "\r\n",
      "numbers = 50, sign = -1\r\n",
      "\r\n",
      "\u001b[1m    def test_w(numbers, sign):\u001b[0m\r\n",
      "\u001b[1m        value = numbers * sign\u001b[0m\r\n",
      "\u001b[1m>       assert w(value) == value\u001b[0m\r\n",
      "\r\n",
      "my_combined_fixture.py:20: \r\n",
      "_ _ _ _ _ _ _ _ _ _ _ _ _ _ _ _ _ _ _ _ _ _ _ _ _ _ _ _ _ _ _ _ _ _ _ _ _ _ _ _ \r\n",
      "\r\n",
      "a = -50\r\n",
      "\r\n",
      "\u001b[1m    def w(a):\u001b[0m\r\n",
      "\u001b[1m        if a == -50:\u001b[0m\r\n",
      "\u001b[1m>           raise ValueError(\"The value cannot be -50\")\u001b[0m\r\n",
      "\u001b[1m\u001b[31mE           ValueError: The value cannot be -50\u001b[0m\r\n",
      "\r\n",
      "my_combined_fixture.py:6: ValueError\r\n",
      "\u001b[1m\u001b[31m====================== 1 failed, 5 passed in 0.01 seconds ======================\u001b[0m\r\n"
     ]
    }
   ],
   "source": [
    "!py.test -v my_combined_fixture.py"
   ]
  },
  {
   "cell_type": "markdown",
   "metadata": {},
   "source": [
    "`numbers` has 3 parameters, `sign` has 2 parameters, hence the simultaneous use of these fixtures probes 3 x 2 = 6 combinations of parameters. As expected, the test has failed for the -50 value."
   ]
  },
  {
   "cell_type": "markdown",
   "metadata": {},
   "source": [
    "\n",
    "## Pytest configuration"
   ]
  },
  {
   "cell_type": "markdown",
   "metadata": {},
   "source": [
    "This part explains how to organize your tests for testing a module. It uses the `euclid` toy module created for this course and available in the base directory under `python-euclid2016/euclid`. \n",
    "\n",
    "At this point, it is easier to open a separate terminal, go to the `euclid` directory\n",
    "\n",
    "    cd ~/Desktop/python-euclid2016/euclid  # for the VM users\n",
    "\n",
    "and continue from there.\n",
    "\n",
    "***Remainder***: shell commands in the notebook are preceded with \"!\", **not** in a terminal."
   ]
  },
  {
   "cell_type": "code",
   "execution_count": 22,
   "metadata": {
    "collapsed": false
   },
   "outputs": [
    {
     "name": "stdout",
     "output_type": "stream",
     "text": [
      "/Users/aboucaud/work/Euclid/devel/python-euclid2016/euclid\n"
     ]
    }
   ],
   "source": [
    "# Depending on where you are at this point do not run this\n",
    "%cd ../euclid/ "
   ]
  },
  {
   "cell_type": "markdown",
   "metadata": {},
   "source": [
    "This directory contains a `Makefile` with three utility commands:\n",
    "\n",
    "    make clean     # to remove __pycache__ and .pyc files\n",
    "    make tests     # to run the tests\n",
    "    make coverage  # to run coverage tests (see next section)"
   ]
  },
  {
   "cell_type": "code",
   "execution_count": 23,
   "metadata": {
    "collapsed": false
   },
   "outputs": [
    {
     "name": "stdout",
     "output_type": "stream",
     "text": [
      "find . -type f -name \"*.pyc\" -delete\r\n",
      "find . -type d -name \"__pycache__\" -delete\r\n"
     ]
    }
   ],
   "source": [
    "!make clean"
   ]
  },
  {
   "cell_type": "markdown",
   "metadata": {},
   "source": [
    "---"
   ]
  },
  {
   "cell_type": "markdown",
   "metadata": {},
   "source": [
    "In order to **visualize** the arborescence of the module and test directory, I recommend using the Linux utility `tree` which can be install in the VM with \n",
    "\n",
    "    sudo yum install -y tree"
   ]
  },
  {
   "cell_type": "code",
   "execution_count": 24,
   "metadata": {
    "collapsed": false
   },
   "outputs": [
    {
     "name": "stdout",
     "output_type": "stream",
     "text": [
      ".\r\n",
      "├── Makefile\r\n",
      "├── euclid\r\n",
      "│   ├── __init__.py\r\n",
      "│   ├── hello.py\r\n",
      "│   ├── maths\r\n",
      "│   │   ├── __init__.py\r\n",
      "│   │   └── mytrigo.py\r\n",
      "│   └── time\r\n",
      "│       ├── __init__.py\r\n",
      "│       └── mytime.py\r\n",
      "└── tests\r\n",
      "    ├── __init__.py\r\n",
      "    ├── conftest.py\r\n",
      "    └── test_mytrigo.py\r\n",
      "\r\n",
      "4 directories, 10 files\r\n"
     ]
    }
   ],
   "source": [
    "!tree"
   ]
  },
  {
   "cell_type": "markdown",
   "metadata": {},
   "source": [
    "Except from the `Makefile`, there are two directories, the module `euclid` and the test directory `tests`.\n",
    "\n",
    "The `tests` directory contains \n",
    "\n",
    "* `__init__.py`  an **empty** file so that the tests are aware of the `euclid` model,\n",
    "* `test_mytrigo.py`  a file containing the tests for the functions in `mytrigo.py`\n",
    "* `conftest.py`  a pytest configuration file whose purpose is to **host the fixtures** for all tests\n",
    "\n",
    "***Note*** `conftest.py` do not need to be imported for pytest to use the fixtures. It is automatic.\n",
    "\n",
    "---"
   ]
  },
  {
   "cell_type": "markdown",
   "metadata": {},
   "source": [
    "### Content of `conftest.py`"
   ]
  },
  {
   "cell_type": "markdown",
   "metadata": {},
   "source": [
    "To visualize the content of the files, one can use\n",
    "\n",
    "    %load myfile.py"
   ]
  },
  {
   "cell_type": "code",
   "execution_count": null,
   "metadata": {
    "collapsed": true
   },
   "outputs": [],
   "source": [
    "# %load tests/conftest.py\n",
    "#!/usr/bin/env python\n",
    "\n",
    "import pytest\n",
    "import numpy as np\n",
    "\n",
    "\n",
    "@pytest.fixture\n",
    "def simplearray():\n",
    "    \"\"\"\n",
    "    Basic fixture: a simple numpy array for general testing purposes\n",
    "    \"\"\"\n",
    "    return np.array([1, 2, 3])\n",
    "\n",
    "\n",
    "@pytest.fixture(params=[10, 100, 1000])\n",
    "def arraysize(request):\n",
    "    \"\"\"\n",
    "    Parametrized fixture: a numpy array with a varying size\n",
    "\n",
    "    The parameters should be set as a list under the `params` keyword\n",
    "\n",
    "    Then in the fixture definition, the `request` argument must be used\n",
    "    in order to retrieve the parameters\n",
    "\n",
    "    \"\"\"\n",
    "    return np.arange(request.param)\n",
    "\n",
    "\n",
    "@pytest.fixture(params=[np.int32, np.int64, np.float32, np.float64])\n",
    "def dtypes(request):\n",
    "    \"\"\"\n",
    "    Parametrized fixture: returns numpy data types\n",
    "\n",
    "    More information on fixtures can be found on\n",
    "    http://pytest.org/latest/fixture.html\n",
    "    and\n",
    "    http://pytest.org/latest/builtin.html#_pytest.python.fixture\n",
    "\n",
    "    \"\"\"\n",
    "    return request.param\n"
   ]
  },
  {
   "cell_type": "markdown",
   "metadata": {},
   "source": [
    "conftest.py contains 3 fixtures: `simplearray`, `arraysize` and `dtypes`"
   ]
  },
  {
   "cell_type": "markdown",
   "metadata": {},
   "source": [
    "### Content of  `test_mytrigo.py`"
   ]
  },
  {
   "cell_type": "code",
   "execution_count": null,
   "metadata": {
    "collapsed": true
   },
   "outputs": [],
   "source": [
    "# %load tests/test_mytrigo.py\n",
    "#!/usr/bin/env python\n",
    "\n",
    "import pytest\n",
    "import numpy as np\n",
    "\n",
    "from numpy.testing import assert_almost_equal\n",
    "\n",
    "from euclid.maths import trigo, trigonp\n",
    "\n",
    "\n",
    "def test_trigo_simple():\n",
    "    \"\"\"\n",
    "    The simplest test:\n",
    "\n",
    "    assert <condition that should be met>\n",
    "\n",
    "    \"\"\"\n",
    "    assert trigo(10) == 1\n",
    "\n",
    "\n",
    "def test_trigo_simple_fail():\n",
    "    \"\"\"\n",
    "    Catching a specific Exception\n",
    "\n",
    "    with pytest.raises(Exception):\n",
    "        <call that should raise the exception>\n",
    "\n",
    "    \"\"\"\n",
    "    with pytest.raises(ValueError):\n",
    "        trigo(-40)\n",
    "\n",
    "\n",
    "def test_trigonp_simple(simplearray):\n",
    "    \"\"\"\n",
    "    Using a simple fixture from the conftest.py file.\n",
    "    The fixture to be used in the test should be given as argument\n",
    "    of the test: here a basic numpy array\n",
    "    The fixture is then called during the test.\n",
    "\n",
    "    It avoids hardcoding the same array for every test.\n",
    "\n",
    "    In this specific test, since the equality test \"==\" on numpy arrays\n",
    "    returns an array of booleans, one must check that all the elements\n",
    "    are `True` with the np.all() method.\n",
    "\n",
    "    However due to floating point errors in the calculation of trigonp,\n",
    "    the returned values are not always equal to one. Thus the use\n",
    "    np.allclose() allows for some tiny departure around the checked\n",
    "    value.\n",
    "\n",
    "    \"\"\"\n",
    "    assert np.allclose(trigonp(simplearray),\n",
    "                       np.ones_like(simplearray, dtype=float))\n",
    "\n",
    "\n",
    "def test_trigonp_size(arraysize):\n",
    "    \"\"\"\n",
    "    This time, the fixture `arraysize` takes several parameters in input\n",
    "    (see conftest.py)\n",
    "    This means that every test using the fixture will be run for every\n",
    "    parameter of the fixture.\n",
    "    In this case the test will be on arrays with different size.\n",
    "\n",
    "    Moreover, we introduce here test triggers provided in the\n",
    "    `numpy.testing` submodule.\n",
    "    The various numpy assert methods can be parametrized in many ways to\n",
    "    ensure both the precision and the accuracy of the tests.\n",
    "\n",
    "    \"\"\"\n",
    "    assert_almost_equal(trigonp(arraysize),\n",
    "                        np.ones_like(arraysize, dtype=float))\n",
    "\n",
    "\n",
    "def test_trigonp_dtype(simplearray, dtypes):\n",
    "    \"\"\"\n",
    "    Various fixtures can be used for a given test. Again they need\n",
    "    to be mentioned as arguments of the tests.\n",
    "\n",
    "    Here we test the method on the `simplearray` and different data\n",
    "    types `dtypes`.\n",
    "\n",
    "    \"\"\"\n",
    "    assert_almost_equal(trigonp(simplearray),\n",
    "                        np.ones_like(simplearray, dtype=dtypes))\n",
    "\n",
    "\n",
    "def test_trigonp_dim_and_dtype(arraysize, dtypes):\n",
    "    \"\"\"\n",
    "    In the specific case where several fixtures are parametrized, the\n",
    "    a single test will be run for each combination of the full parameter\n",
    "    set.\n",
    "\n",
    "    Here we test both the array size and the data type, and for each\n",
    "    size of array, all data types will be tested, that is\n",
    "    3 size x 4 dtype = 12 combinations\n",
    "\n",
    "    \"\"\"\n",
    "    assert_almost_equal(trigonp(arraysize),\n",
    "                        np.ones_like(arraysize, dtype=dtypes))\n"
   ]
  },
  {
   "cell_type": "markdown",
   "metadata": {},
   "source": [
    "`test_mytrigo.py` contains 6 tests, some of which rely on 2 fixtures. However, as mentioned, the fixtures can be used without being imported."
   ]
  },
  {
   "cell_type": "markdown",
   "metadata": {},
   "source": [
    "### Full testing for the module"
   ]
  },
  {
   "cell_type": "code",
   "execution_count": 25,
   "metadata": {
    "collapsed": false
   },
   "outputs": [
    {
     "name": "stdout",
     "output_type": "stream",
     "text": [
      "py.test -v\n",
      "\u001b[1m============================= test session starts ==============================\u001b[0m\n",
      "platform darwin -- Python 2.7.11, pytest-2.9.2, py-1.4.31, pluggy-0.3.1 -- /usr/local/opt/python/bin/python2.7\n",
      "cachedir: .cache\n",
      "rootdir: /Users/aboucaud/work/Euclid/devel/python-euclid2016/euclid, inifile: \n",
      "plugins: cov-2.2.1, pep8-1.0.6, xdist-1.14\n",
      "collected 22 items \n",
      "\u001b[0m\n",
      "tests/test_mytrigo.py::test_trigo_simple \u001b[32mPASSED\u001b[0m\n",
      "tests/test_mytrigo.py::test_trigo_simple_fail \u001b[32mPASSED\u001b[0m\n",
      "tests/test_mytrigo.py::test_trigonp_simple \u001b[32mPASSED\u001b[0m\n",
      "tests/test_mytrigo.py::test_trigonp_size[10] \u001b[32mPASSED\u001b[0m\n",
      "tests/test_mytrigo.py::test_trigonp_size[100] \u001b[32mPASSED\u001b[0m\n",
      "tests/test_mytrigo.py::test_trigonp_size[1000] \u001b[32mPASSED\u001b[0m\n",
      "tests/test_mytrigo.py::test_trigonp_dtype[int32] \u001b[32mPASSED\u001b[0m\n",
      "tests/test_mytrigo.py::test_trigonp_dtype[int64] \u001b[32mPASSED\u001b[0m\n",
      "tests/test_mytrigo.py::test_trigonp_dtype[float32] \u001b[32mPASSED\u001b[0m\n",
      "tests/test_mytrigo.py::test_trigonp_dtype[float64] \u001b[32mPASSED\u001b[0m\n",
      "tests/test_mytrigo.py::test_trigonp_dim_and_dtype[10-int32] \u001b[32mPASSED\u001b[0m\n",
      "tests/test_mytrigo.py::test_trigonp_dim_and_dtype[10-int64] \u001b[32mPASSED\u001b[0m\n",
      "tests/test_mytrigo.py::test_trigonp_dim_and_dtype[10-float32] \u001b[32mPASSED\u001b[0m\n",
      "tests/test_mytrigo.py::test_trigonp_dim_and_dtype[10-float64] \u001b[32mPASSED\u001b[0m\n",
      "tests/test_mytrigo.py::test_trigonp_dim_and_dtype[100-int32] \u001b[32mPASSED\u001b[0m\n",
      "tests/test_mytrigo.py::test_trigonp_dim_and_dtype[100-int64] \u001b[32mPASSED\u001b[0m\n",
      "tests/test_mytrigo.py::test_trigonp_dim_and_dtype[100-float32] \u001b[32mPASSED\u001b[0m\n",
      "tests/test_mytrigo.py::test_trigonp_dim_and_dtype[100-float64] \u001b[32mPASSED\u001b[0m\n",
      "tests/test_mytrigo.py::test_trigonp_dim_and_dtype[1000-int32] \u001b[32mPASSED\u001b[0m\n",
      "tests/test_mytrigo.py::test_trigonp_dim_and_dtype[1000-int64] \u001b[32mPASSED\u001b[0m\n",
      "tests/test_mytrigo.py::test_trigonp_dim_and_dtype[1000-float32] \u001b[32mPASSED\u001b[0m\n",
      "tests/test_mytrigo.py::test_trigonp_dim_and_dtype[1000-float64] \u001b[32mPASSED\u001b[0m\n",
      "\n",
      "\u001b[32m\u001b[1m========================== 22 passed in 0.03 seconds ===========================\u001b[0m\n"
     ]
    }
   ],
   "source": [
    "!make test  # or !py.test -v"
   ]
  },
  {
   "cell_type": "markdown",
   "metadata": {},
   "source": [
    "These tests summarize well all the properties explained in the previous paragraphs\n",
    "\n",
    "---"
   ]
  },
  {
   "cell_type": "markdown",
   "metadata": {},
   "source": [
    "## Test coverage"
   ]
  },
  {
   "cell_type": "markdown",
   "metadata": {},
   "source": [
    "A test coverage is a report on the number of lignes of a module that have been tested. Basically, a good coverage means much of your code has been run at least once during a test."
   ]
  },
  {
   "cell_type": "markdown",
   "metadata": {},
   "source": [
    "To use coverage with pytest, one must first install\n",
    "    \n",
    "    sudo pip install pytest-cov"
   ]
  },
  {
   "cell_type": "markdown",
   "metadata": {},
   "source": [
    "Then the coverage test is run on the module, not on the tests itself. Here the module is `euclid`. before running the coverage test, one needs to be in the directory \n",
    "\n",
    "    ../python-euclid2016/euclid"
   ]
  },
  {
   "cell_type": "code",
   "execution_count": 26,
   "metadata": {
    "collapsed": false
   },
   "outputs": [
    {
     "name": "stdout",
     "output_type": "stream",
     "text": [
      "\u001b[1m============================= test session starts ==============================\u001b[0m\n",
      "platform darwin -- Python 2.7.11, pytest-2.9.2, py-1.4.31, pluggy-0.3.1\n",
      "rootdir: /Users/aboucaud/work/Euclid/devel/python-euclid2016/euclid/euclid, inifile: \n",
      "plugins: cov-2.2.1, pep8-1.0.6, xdist-1.14\n",
      "collected 22 items \n",
      "\u001b[0m\n",
      "euclid ......................\n",
      "--------------- coverage: platform darwin, python 2.7.11-final-0 ---------------\n",
      "Name                       Stmts   Miss  Cover\n",
      "----------------------------------------------\n",
      "euclid/__init__.py             2      0   100%\n",
      "euclid/hello.py                2      2     0%\n",
      "euclid/maths/__init__.py       1      0   100%\n",
      "euclid/maths/mytrigo.py        8      0   100%\n",
      "euclid/time/__init__.py        1      0   100%\n",
      "euclid/time/mytime.py          4      1    75%\n",
      "----------------------------------------------\n",
      "TOTAL                         18      3    83%\n",
      "\n",
      "\u001b[32m\u001b[1m========================== 22 passed in 0.04 seconds ===========================\u001b[0m\n"
     ]
    }
   ],
   "source": [
    "!py.test --cov euclid/"
   ]
  },
  {
   "cell_type": "markdown",
   "metadata": {},
   "source": [
    "One can see that `hello.py` and `mytime.py` are not covered by tests.\n",
    "\n",
    "However, the coverage of `mytime.py` is not 0, as all of the `__init__.py` since the **imports** present in the files trigger an evaluation of some of the lines."
   ]
  },
  {
   "cell_type": "markdown",
   "metadata": {},
   "source": [
    "---"
   ]
  },
  {
   "cell_type": "code",
   "execution_count": 27,
   "metadata": {
    "collapsed": false
   },
   "outputs": [
    {
     "data": {
      "text/html": [
       "<link href='http://fonts.googleapis.com/css?family=Fenix' rel='stylesheet' type='text/css'>\n",
       "<link href='http://fonts.googleapis.com/css?family=Alegreya+Sans:100,300,400,500,700,800,900,100italic,300italic,400italic,500italic,700italic,800italic,900italic' rel='stylesheet' type='text/css'>\n",
       "<link href='http://fonts.googleapis.com/css?family=Source+Code+Pro:300,400' rel='stylesheet' type='text/css'>\n",
       "<style>\n",
       "\n",
       "/*\n",
       "Adapted from Lorena Barba style file\n",
       "https://github.com/barbagroup/AeroPython/blob/master/styles/custom.css\n",
       "*/\n",
       "\n",
       "@font-face {\n",
       "    font-family: \"Computer Modern\";\n",
       "    src: url('http://mirrors.ctan.org/fonts/cm-unicode/fonts/otf/cmunss.otf');\n",
       "}\n",
       "\n",
       "\n",
       "#notebook_panel { /* main background */\n",
       "    background: rgb(245,245,245);\n",
       "}\n",
       "\n",
       "div.cell { /* set cell width */\n",
       "    width: 875px;\n",
       "}\n",
       "\n",
       "div #notebook { /* centre the content */\n",
       "    background: #fff; /* white background for content */\n",
       "    width: 1000px;\n",
       "    margin: auto;\n",
       "    padding-left: 0em;\n",
       "}\n",
       "\n",
       "#notebook li { /* More space between bullet points */\n",
       "margin-top:0.8em;\n",
       "}\n",
       "\n",
       "/* draw border around running cells */\n",
       "div.cell.border-box-sizing.code_cell.running {\n",
       "    border: 1px solid #111;\n",
       "}\n",
       "\n",
       "/* Put a solid color box around each cell and its output, visually linking them*/\n",
       "div.cell.code_cell {\n",
       "    background-color: rgb(256,256,256);\n",
       "    border-radius: 0px;\n",
       "    padding: 0.5em;\n",
       "    margin-left:1em;\n",
       "    margin-top: 1em;\n",
       "}\n",
       "\n",
       "div.text_cell_render{\n",
       "    font-family: 'Alegreya Sans' sans-serif;\n",
       "    line-height: 140%;\n",
       "    font-size: 125%;\n",
       "    font-weight: 400;\n",
       "    width:750px;\n",
       "    margin-left:auto;\n",
       "    margin-right:auto;\n",
       "}\n",
       "\n",
       "/* Formatting for header cells */\n",
       ".text_cell_render h1 {\n",
       "    font-family: 'Alegreya Sans', sans-serif;\n",
       "    font-style:regular;\n",
       "    font-weight: 200;\n",
       "    font-size: 50pt;\n",
       "    line-height: 100%;\n",
       "    color:#CD2305;\n",
       "    margin-bottom: 0.5em;\n",
       "    margin-top: 0.5em;\n",
       "    display: block;\n",
       "}\n",
       ".text_cell_render h2 {\n",
       "    font-family: 'Fenix', serif;\n",
       "    font-size: 22pt;\n",
       "    line-height: 100%;\n",
       "    margin-bottom: 0.1em;\n",
       "    margin-top: 0.3em;\n",
       "    display: block;\n",
       "}\n",
       "\n",
       ".text_cell_render h3 {\n",
       "    font-family: 'Fenix', serif;\n",
       "    margin-top:12px;\n",
       "    font-size: 16pt;\n",
       "    margin-bottom: 3px;\n",
       "    font-style: regular;\n",
       "}\n",
       "\n",
       ".text_cell_render h4 {    /*Use this for captions*/\n",
       "    font-family: 'Fenix', serif;\n",
       "    font-size: 2pt;\n",
       "    text-align: center;\n",
       "    margin-top: 0em;\n",
       "    margin-bottom: 2em;\n",
       "    font-style: regular;\n",
       "}\n",
       "\n",
       ".text_cell_render h5 {  /*Use this for small titles*/\n",
       "    font-family: 'Alegreya Sans', sans-serif;\n",
       "    font-weight: 300;\n",
       "    font-size: 16pt;\n",
       "    color: #CD2305;\n",
       "    font-style: italic;\n",
       "    margin-bottom: .5em;\n",
       "    margin-top: 0.5em;\n",
       "    display: block;\n",
       "}\n",
       "\n",
       ".text_cell_render h6 { /*use this for copyright note*/\n",
       "    font-family: 'Source Code Pro', sans-serif;\n",
       "    font-weight: 300;\n",
       "    font-size: 9pt;\n",
       "    line-height: 100%;\n",
       "    color: grey;\n",
       "    margin-bottom: 1px;\n",
       "    margin-top: 1px;\n",
       "}\n",
       "\n",
       "    .CodeMirror{\n",
       "            font-family: \"Source Code Pro\";\n",
       "            font-size: 90%;\n",
       "    }\n",
       "/*    .prompt{\n",
       "        display: None;\n",
       "    }*/\n",
       "\n",
       "\n",
       "    .warning{\n",
       "        color: rgb( 240, 20, 20 )\n",
       "        }\n",
       "</style>\n",
       "<script>\n",
       "    MathJax.Hub.Config({\n",
       "                        TeX: {\n",
       "                           extensions: [\"AMSmath.js\"],\n",
       "                           equationNumbers: { autoNumber: \"AMS\", useLabelIds: true}\n",
       "                           },\n",
       "                tex2jax: {\n",
       "                    inlineMath: [ ['$','$'], [\"\\\\(\",\"\\\\)\"] ],\n",
       "                    displayMath: [ ['$$','$$'], [\"\\\\[\",\"\\\\]\"] ]\n",
       "                },\n",
       "                displayAlign: 'center', // Change this to 'center' to center equations.\n",
       "                \"HTML-CSS\": {\n",
       "                    styles: {'.MathJax_Display': {\"margin\": 4}}\n",
       "                }\n",
       "        });\n",
       "</script>\n"
      ],
      "text/plain": [
       "<IPython.core.display.HTML object>"
      ]
     },
     "execution_count": 27,
     "metadata": {},
     "output_type": "execute_result"
    }
   ],
   "source": [
    "from IPython.core.display import HTML\n",
    "HTML(open('../styles/notebook.css', 'r').read())"
   ]
  }
 ],
 "metadata": {
  "kernelspec": {
   "display_name": "Python 2",
   "language": "python",
   "name": "python2"
  },
  "language_info": {
   "codemirror_mode": {
    "name": "ipython",
    "version": 2
   },
   "file_extension": ".py",
   "mimetype": "text/x-python",
   "name": "python",
   "nbconvert_exporter": "python",
   "pygments_lexer": "ipython2",
   "version": "2.7.11"
  }
 },
 "nbformat": 4,
 "nbformat_minor": 0
}
