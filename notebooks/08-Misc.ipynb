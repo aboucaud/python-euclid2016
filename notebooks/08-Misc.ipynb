{
 "cells": [
  {
   "cell_type": "markdown",
   "metadata": {},
   "source": [
    "# Tips & Tricks"
   ]
  },
  {
   "cell_type": "markdown",
   "metadata": {
    "collapsed": true
   },
   "source": [
    "## Quick Tips"
   ]
  },
  {
   "cell_type": "markdown",
   "metadata": {},
   "source": [
    "### Exceptions   (try...except)\n",
    "Exceptions are useful for doing proper error handling"
   ]
  },
  {
   "cell_type": "code",
   "execution_count": null,
   "metadata": {
    "collapsed": false
   },
   "outputs": [],
   "source": [
    "# basic exception hanlding\n",
    "try:\n",
    "    # ... do something\n",
    "    pass\n",
    "except WhateverException as e:\n",
    "    # ... do the handling here\n",
    "    pass"
   ]
  },
  {
   "cell_type": "code",
   "execution_count": null,
   "metadata": {
    "collapsed": true
   },
   "outputs": [],
   "source": [
    "# more \"verbose\" exception hanlding\n",
    "try:\n",
    "    # ... do something\n",
    "    pass\n",
    "except WhateverException as e:\n",
    "    # ... do the handling here\n",
    "    pass\n",
    "finally:\n",
    "    # ... code here is always executed\n",
    "    pass"
   ]
  },
  {
   "cell_type": "markdown",
   "metadata": {},
   "source": [
    "working example (see https://docs.python.org/2/tutorial/errors.html)"
   ]
  },
  {
   "cell_type": "code",
   "execution_count": null,
   "metadata": {
    "collapsed": true
   },
   "outputs": [],
   "source": [
    "import sys\n",
    "\n",
    "try:\n",
    "    f = open('myfile.txt')\n",
    "    s = f.readline()\n",
    "    i = int(s.strip())\n",
    "except IOError as e:\n",
    "    print \"I/O error({0}): {1}\".format(e.errno, e.strerror)\n",
    "except ValueError:\n",
    "    print \"Could not convert data to an integer.\"\n",
    "except:\n",
    "    print \"Unexpected error:\", sys.exc_info()[0]\n",
    "    raise"
   ]
  },
  {
   "cell_type": "markdown",
   "metadata": {},
   "source": [
    "Never use the \"diaper\" design pattern ..."
   ]
  },
  {
   "cell_type": "code",
   "execution_count": null,
   "metadata": {
    "collapsed": false
   },
   "outputs": [],
   "source": [
    "try:\n",
    "    f = open('adasdasd.foo', 'r')\n",
    "except:\n",
    "    pass"
   ]
  },
  {
   "cell_type": "markdown",
   "metadata": {},
   "source": [
    "execution continues silently and it would be horribly annoying to find what went wrong because no error message or warning will be displayed!!"
   ]
  },
  {
   "cell_type": "markdown",
   "metadata": {},
   "source": [
    "### lambda (inline functions)"
   ]
  },
  {
   "cell_type": "code",
   "execution_count": null,
   "metadata": {
    "collapsed": false
   },
   "outputs": [],
   "source": [
    "# doing it with a function\n",
    "def my_square(x):\n",
    "    return x**2\n",
    "print(my_square(16))"
   ]
  },
  {
   "cell_type": "code",
   "execution_count": null,
   "metadata": {
    "collapsed": false
   },
   "outputs": [],
   "source": [
    "# doing it with a lambda\n",
    "my_square = lambda x: x**2\n",
    "print(my_square(16))"
   ]
  },
  {
   "cell_type": "markdown",
   "metadata": {},
   "source": [
    "### pythonic \"loops\""
   ]
  },
  {
   "cell_type": "code",
   "execution_count": null,
   "metadata": {
    "collapsed": false
   },
   "outputs": [],
   "source": [
    "for i in range(80, 90):\n",
    "    print(chr(i))"
   ]
  },
  {
   "cell_type": "code",
   "execution_count": null,
   "metadata": {
    "collapsed": false
   },
   "outputs": [],
   "source": [
    "for character in map(chr, range(80, 90)):\n",
    "    print(character)"
   ]
  },
  {
   "cell_type": "code",
   "execution_count": null,
   "metadata": {
    "collapsed": false
   },
   "outputs": [],
   "source": [
    "import subprocess\n",
    "import time\n",
    "import sys\n",
    "\n",
    "for char in map(chr, range(80, 90)):\n",
    "    print('   ', char, '   ')\n",
    "    sys.stdout.flush()\n",
    "    time.sleep(0.05)\n",
    "    subprocess.Popen(\"clear\").wait()"
   ]
  },
  {
   "cell_type": "code",
   "execution_count": null,
   "metadata": {
    "collapsed": false
   },
   "outputs": [],
   "source": [
    "import subprocess\n",
    "import time\n",
    "import sys\n",
    "from IPython.display import clear_output\n",
    "\n",
    "for char in map(chr, range(128, 256)):\n",
    "    print('   ', char, '   ')\n",
    "    time.sleep(0.1)\n",
    "    clear_output(wait=0.1)"
   ]
  },
  {
   "cell_type": "markdown",
   "metadata": {},
   "source": [
    "### map"
   ]
  },
  {
   "cell_type": "code",
   "execution_count": null,
   "metadata": {
    "collapsed": false
   },
   "outputs": [],
   "source": [
    "' '.join(map(chr, range(0, 128)))"
   ]
  },
  {
   "cell_type": "markdown",
   "metadata": {},
   "source": [
    "### filter"
   ]
  },
  {
   "cell_type": "code",
   "execution_count": null,
   "metadata": {
    "collapsed": false
   },
   "outputs": [],
   "source": [
    "x = [1, 2, 10, -1, -8]\n",
    "x_positive = []\n",
    "for element in x:\n",
    "    if element < 0:\n",
    "        pass\n",
    "    else:\n",
    "        x_positive.append(element)\n",
    "print(x_positive)"
   ]
  },
  {
   "cell_type": "markdown",
   "metadata": {},
   "source": [
    "#### more elegant implementation (with filter)"
   ]
  },
  {
   "cell_type": "code",
   "execution_count": null,
   "metadata": {
    "collapsed": false
   },
   "outputs": [],
   "source": [
    "list(filter(lambda element: element > 0, x))"
   ]
  },
  {
   "cell_type": "markdown",
   "metadata": {},
   "source": [
    "### reduce"
   ]
  },
  {
   "cell_type": "code",
   "execution_count": null,
   "metadata": {
    "collapsed": false
   },
   "outputs": [],
   "source": [
    "x = range(1000)\n",
    "def calculate_sum1(array):\n",
    "    my_sum = 0\n",
    "    for element in array:\n",
    "        my_sum += element\n",
    "    return my_sum\n",
    "print(calculate_sum(x))"
   ]
  },
  {
   "cell_type": "code",
   "execution_count": null,
   "metadata": {
    "collapsed": false
   },
   "outputs": [],
   "source": [
    "from functools import reduce\n",
    "def calculate_sum2(array):\n",
    "    return reduce(lambda x, y: x + y, array)\n",
    "print(calculate_sum2(x))"
   ]
  },
  {
   "cell_type": "markdown",
   "metadata": {},
   "source": [
    "which is faster ?"
   ]
  },
  {
   "cell_type": "code",
   "execution_count": null,
   "metadata": {
    "collapsed": false
   },
   "outputs": [],
   "source": [
    "%timeit calculate_sum1(x)\n",
    "%timeit calculate_sum2(x) "
   ]
  },
  {
   "cell_type": "markdown",
   "metadata": {},
   "source": [
    "comparison to numpy"
   ]
  },
  {
   "cell_type": "code",
   "execution_count": null,
   "metadata": {
    "collapsed": false
   },
   "outputs": [],
   "source": [
    "import numpy\n",
    "x = numpy.arange(0, 10000)\n",
    "%timeit x.sum()"
   ]
  },
  {
   "cell_type": "code",
   "execution_count": null,
   "metadata": {
    "collapsed": false
   },
   "outputs": [],
   "source": [
    "# for methods/function calls that take lots of time\n",
    "%time x.sum()"
   ]
  },
  {
   "cell_type": "markdown",
   "metadata": {
    "collapsed": true
   },
   "source": [
    "## Configuring IPython\n",
    "\n",
    "put this snippet at the bottom of:\n",
    "\n",
    "     ~/.ipython/profile_default/ipython_config.py\n",
    "\n",
    "and relaunch ipython. You have to do this once."
   ]
  },
  {
   "cell_type": "code",
   "execution_count": null,
   "metadata": {
    "collapsed": true
   },
   "outputs": [],
   "source": [
    "c.InteractiveShellApp.extensions = ['autoreload']\n",
    "c.InteractiveShellApp.exec_lines = ['%autoreload 2']\n",
    "c.InteractiveShellApp.exec_lines.append('print(\"\")')\n",
    "c.InteractiveShellApp.exec_lines.append('print(\"disable autoreload in ipython_config.py to improve performance.\")')\n",
    "c.InteractiveShellApp.exec_lines.append('print(\"finished loading.\")')"
   ]
  },
  {
   "cell_type": "markdown",
   "metadata": {
    "collapsed": true
   },
   "source": [
    "## Editors/IDEs"
   ]
  },
  {
   "cell_type": "markdown",
   "metadata": {},
   "source": [
    "- https://atom.io/   (free)\n",
    "- emacs              (free)\n",
    "- vim                (free)\n",
    "- pycharm            (half free)\n",
    "- sublime text       (half free)\n",
    "- eric python        (free)\n",
    "- sphinx             (free)\n",
    "- spyder             (free - matlab like)\n",
    "- eclipse + pydev    (free)"
   ]
  },
  {
   "cell_type": "markdown",
   "metadata": {
    "collapsed": true
   },
   "source": [
    "## debugging\n",
    "\n",
    "  - pdb\n",
    "  - ipdb\n",
    "  - pdb++\n",
    "  - just put asdasdasdasd\n",
    "  - breakpoints in the IDE (best way to go to find nasty bugs)"
   ]
  },
  {
   "cell_type": "markdown",
   "metadata": {
    "collapsed": true
   },
   "source": [
    "## profiling\n",
    "\n",
    "   - cProfile  (https://docs.python.org/2/library/profile.html)\n",
    "   - timeit    (ipython)\n",
    "   - pycharm   (gui based)\n",
    "   "
   ]
  },
  {
   "cell_type": "markdown",
   "metadata": {
    "collapsed": true
   },
   "source": [
    "## code coverage\n",
    "\n",
    "   - pip install coverage\n",
    "   - py.test plugin (coverage)"
   ]
  },
  {
   "cell_type": "markdown",
   "metadata": {
    "collapsed": true
   },
   "source": [
    "## extending python\n",
    "\n",
    "    - ctypes\n",
    "    - via numpy (f2py)\n",
    "    - swig\n",
    "    - cython\n",
    "    - numba\n",
    "    - pycuda\n",
    "    - ... many others"
   ]
  }
 ],
 "metadata": {
  "kernelspec": {
   "display_name": "Python 3",
   "language": "python",
   "name": "python3"
  },
  "language_info": {
   "codemirror_mode": {
    "name": "ipython",
    "version": 3
   },
   "file_extension": ".py",
   "mimetype": "text/x-python",
   "name": "python",
   "nbconvert_exporter": "python",
   "pygments_lexer": "ipython3",
   "version": "3.5.1"
  }
 },
 "nbformat": 4,
 "nbformat_minor": 0
}
